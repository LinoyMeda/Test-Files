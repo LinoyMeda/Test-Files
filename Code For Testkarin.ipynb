{
 "cells": [
  {
   "cell_type": "markdown",
   "metadata": {},
   "source": [
    "### >>all the import:\n",
    "#### לשים לב לשורה 7 - זה משתנה אם זה ריגרישין או קלאסיפאי"
   ]
  },
  {
   "cell_type": "code",
   "execution_count": 82,
   "metadata": {},
   "outputs": [],
   "source": [
    "import pandas as pd\n",
    "import numpy as np\n",
    "import matplotlib.pyplot as plt\n",
    "import seaborn as sns\n",
    "import sklearn as sk\n",
    "from sklearn import tree\n",
    "from sklearn.tree import DecisionTreeClassifier\n",
    "from sklearn.tree import DecisionTreeRegressor\n",
    "from sklearn.model_selection import train_test_split\n",
    "from sklearn.metrics import mean_squared_error as mse"
   ]
  },
  {
   "cell_type": "markdown",
   "metadata": {},
   "source": [
    "### >>tables:\n"
   ]
  },
  {
   "cell_type": "markdown",
   "metadata": {},
   "source": [
    "##### 1.pivot table\n",
    "<div style=\"direction:rtl\">\n",
    "    מסדר טבלה חדשה של עמודה אחת ביחס לכמה עמודות אחרות, המדידה היא ביחס לעמודה שנבחר, הדיפולט זה ממוצע, כדי לשנות דיפולט נכתוב את הפעולה הרצויה ב aggfunc\n",
    "</div>\n",
    "\n",
    "###### pay attention - the defult is mean"
   ]
  },
  {
   "cell_type": "code",
   "execution_count": 83,
   "metadata": {},
   "outputs": [],
   "source": [
    "#data.pivot_table(['column 1','column 2'],'wanted column')\n",
    "#data.pivot_table(index=\"column as an index\",columns=\"column as an column\",values=([\"columns as a value\"]) , aggfunc=\"mean\")"
   ]
  },
  {
   "cell_type": "markdown",
   "metadata": {},
   "source": [
    "##### 2.groupby"
   ]
  },
  {
   "cell_type": "code",
   "execution_count": 84,
   "metadata": {},
   "outputs": [],
   "source": [
    "#data.groupby(['column1', 'column2'])[['data-column']].aggregate('mean').unstack()\n",
    "#a1 = data.groupby([\"region\",\"year\"])[[\"total_sold\"]].sum().sort_values([\"total_sold\"],ascending=[False])"
   ]
  },
  {
   "cell_type": "markdown",
   "metadata": {},
   "source": [
    "#### בדיקת הסטיית תקן"
   ]
  },
  {
   "cell_type": "code",
   "execution_count": 85,
   "metadata": {},
   "outputs": [],
   "source": [
    "#data.groupby('gender').std()"
   ]
  },
  {
   "cell_type": "markdown",
   "metadata": {},
   "source": [
    "### >>Conditional selection"
   ]
  },
  {
   "cell_type": "markdown",
   "metadata": {},
   "source": [
    "##### 1.str.contains"
   ]
  },
  {
   "cell_type": "code",
   "execution_count": 86,
   "metadata": {},
   "outputs": [],
   "source": [
    "#נותן לחפש את הערך הרצוי בעמודה מסוימת רק אם הוא סטרינג !\n",
    "\n",
    "# data[data.column.str.contains(\"Value\")]\n",
    "# או \n",
    "# data[data.column.str.contains(\"Value\")].reset_index(drop=True)\n",
    "# או\n",
    "# data[data[\"column\"].str.contains(\"Value\")]\n",
    "\n",
    "#עובד עם כל סוגי המידע(סטרינג מספר וכו...),חיפוש ערך בעמודה מסוימת לפי שם הערך\n",
    "\n",
    "# data.loc[:,[\"type\",\"year\"]]\n",
    "# data.loc[data.column == \"value\"]\n",
    "# data = data[data.column_name == int value]"
   ]
  },
  {
   "cell_type": "markdown",
   "metadata": {},
   "source": [
    "##### 2.str.startwith"
   ]
  },
  {
   "cell_type": "code",
   "execution_count": 87,
   "metadata": {},
   "outputs": [],
   "source": [
    "#למצוא סטרינג שמתחיל בתו כלשהו בעמודה מסוימת\n",
    "\n",
    "#data[data[\"column\"].str.startswith((\"K\"))]"
   ]
  },
  {
   "cell_type": "markdown",
   "metadata": {},
   "source": [
    "### >> null value"
   ]
  },
  {
   "cell_type": "markdown",
   "metadata": {},
   "source": [
    "##### 1.Finding missing values\n"
   ]
  },
  {
   "cell_type": "code",
   "execution_count": 88,
   "metadata": {},
   "outputs": [],
   "source": [
    "#for all data\n",
    "#data.isnull().sum().sort_values(ascending=[False])"
   ]
  },
  {
   "cell_type": "code",
   "execution_count": 89,
   "metadata": {},
   "outputs": [],
   "source": [
    "#for specific column\n",
    "#data['column'].isnull().sum()\n",
    "#data['column'].notnull().sum()"
   ]
  },
  {
   "cell_type": "markdown",
   "metadata": {},
   "source": [
    "<div style=\"direction:rtl\">\n",
    "    IDXMAX אם אני רוצה לקבל את שם העמודה עם הכי הרבה ערכים חסרים אשתמש בס\n",
    "</div>"
   ]
  },
  {
   "cell_type": "code",
   "execution_count": 16,
   "metadata": {},
   "outputs": [],
   "source": [
    "#Argument1=data.isnull().sum().idxmax()\n",
    "#Argument2=data.isnull().sum().max()\n",
    "#print(\"the number is:\",Argument2,\"\\nand the max column is :\",Argument1)"
   ]
  },
  {
   "cell_type": "markdown",
   "metadata": {},
   "source": [
    "##### 2.Remove missing value"
   ]
  },
  {
   "cell_type": "code",
   "execution_count": 62,
   "metadata": {},
   "outputs": [],
   "source": [
    "#for all data\n",
    "#data.dropna()"
   ]
  },
  {
   "cell_type": "code",
   "execution_count": 63,
   "metadata": {},
   "outputs": [],
   "source": [
    "#for specific column\n",
    "#data.dropna(subset = ['column']).count()"
   ]
  },
  {
   "cell_type": "markdown",
   "metadata": {},
   "source": [
    "##### 3.Fill missing values "
   ]
  },
  {
   "cell_type": "markdown",
   "metadata": {},
   "source": [
    "<div style=\"direction:rtl\">\n",
    "    דגש!! ניתן להוסיף פעולות במקום הערך החסר כגון ממוצע/חציון וכו\n",
    "</div>\n",
    "\n"
   ]
  },
  {
   "cell_type": "code",
   "execution_count": 17,
   "metadata": {},
   "outputs": [],
   "source": [
    "#data[\"column\"].fillna('k', inplace = True )\n",
    "#\"לערכים ריקים נרשום באינפלייס \"אמת\", אם נרצה להחליף את כל הערכים נרשום \"שקר\n",
    "\n",
    "#data[\"column\"].fillna(data[\"column\"].median(), inplace = True )"
   ]
  },
  {
   "cell_type": "code",
   "execution_count": 8,
   "metadata": {},
   "outputs": [],
   "source": [
    "#אם רוצים למלא את הערך אחרי או לפני\n",
    "#data[['column']].fillna(method='ffill'/'bfill')\n"
   ]
  },
  {
   "cell_type": "markdown",
   "metadata": {},
   "source": [
    "> * Extension on Missing Values ​​- `Unit 3`\n"
   ]
  },
  {
   "cell_type": "markdown",
   "metadata": {},
   "source": [
    "##### 4.skipna"
   ]
  },
  {
   "cell_type": "markdown",
   "metadata": {},
   "source": [
    "<div style=\"direction:rtl\">\n",
    "    ניתן לעשות פעלות ולדלג על הערכים הריקים\n",
    "</div>"
   ]
  },
  {
   "cell_type": "code",
   "execution_count": 43,
   "metadata": {},
   "outputs": [],
   "source": [
    "#NewArgument=data[\"column\"].mean(skipna = True) "
   ]
  },
  {
   "cell_type": "markdown",
   "metadata": {},
   "source": [
    "### > Visualization"
   ]
  },
  {
   "cell_type": "markdown",
   "metadata": {},
   "source": [
    "#### 1. scatterplot:\n",
    "<div style=\"direction:rtl\">\n",
    "    גרף שמראה עלייה\\ ירידה של נתונים בין 2 עמודות, מתאים אחרי קרולציה לנתונים בדידים בדגש על בדידים !! \n",
    "    מראה נקודות \n",
    "</div>"
   ]
  },
  {
   "cell_type": "code",
   "execution_count": 44,
   "metadata": {},
   "outputs": [],
   "source": [
    "#קישור לויזואליזציות שונות\n",
    "#https://seaborn.pydata.org/examples/index.html"
   ]
  },
  {
   "cell_type": "code",
   "execution_count": 45,
   "metadata": {},
   "outputs": [],
   "source": [
    "#seaborn\n",
    "#sns.scatterplot(data=data, x=\"Xcolumn\", y=\"Ycolumn\", hue = 'ניתן לשים שם של עמודה וזה יעשה צבע לכל ערך',sizes=(1, 8))"
   ]
  },
  {
   "cell_type": "code",
   "execution_count": 46,
   "metadata": {},
   "outputs": [],
   "source": [
    "#panda\n",
    "#data.plot.scatter(x = 'Xcolumn', y = 'Ycolumn')"
   ]
  },
  {
   "cell_type": "markdown",
   "metadata": {},
   "source": [
    "###### דוגמאה מלאה"
   ]
  },
  {
   "cell_type": "code",
   "execution_count": 90,
   "metadata": {},
   "outputs": [],
   "source": [
    "# plt.figure(figsize=(10,15)) על מנת לשחק עם הגדלים\n",
    "# plt.subplot(1,2,1)\n",
    "# plt.title(\"First Title That You Want\")\n",
    "# sns.scatterplot(data = data , x =data[\"column1\"] , y =data[\"column2\"] )\n",
    "# plt.subplot(1,2,2)\n",
    "# plt.title(\"First Title That You Want\")\n",
    "# sns.scatterplot(data = data , x =data[\"column1\"] , y =data[\"column2\"])"
   ]
  },
  {
   "cell_type": "markdown",
   "metadata": {},
   "source": [
    "#### 2.strip plot\n",
    "<div style=\"direction:rtl\">\n",
    "    מראה כמה גרפים אחד ליד השני עם נקודות, ז\"א נתונים בדידים ככה שאפשר לראות צפיפות ביחס בין 2 עמודות מסוימות\n",
    "</div>"
   ]
  },
  {
   "cell_type": "code",
   "execution_count": 47,
   "metadata": {},
   "outputs": [],
   "source": [
    "# sns.stripplot(x=\"numrated\" , y='runtime per min', data=movie_df)          \n",
    "# plt.show()"
   ]
  },
  {
   "cell_type": "markdown",
   "metadata": {},
   "source": [
    "#### 3. regplot\n",
    "<div style=\"direction:rtl\">\n",
    "    הצגה של נותוני איקס ביחס לווי עם קו מגמה ברור\n",
    "</div>"
   ]
  },
  {
   "cell_type": "code",
   "execution_count": 48,
   "metadata": {},
   "outputs": [],
   "source": [
    "#sns.regplot(x='Xcolumn', y='Ycolumn', data=data[data['column'] < int])  אם אני רוצה שזה יהיה מתחת\\מעל ערכים ספציפיים מסוימים בעמודה כלשהי\n",
    "# sns.regplot(x='imdb_rating', y=\"metascore\", data=percor)"
   ]
  },
  {
   "cell_type": "markdown",
   "metadata": {},
   "source": [
    "#### 4.barplot:\n",
    "<div style=\"direction:rtl\">\n",
    "    הצגה של נתונים רציפים לפי צבעים. מתאים להשוואה לפי ממוצע,סכום וכו.\n",
    "</div>"
   ]
  },
  {
   "cell_type": "code",
   "execution_count": 18,
   "metadata": {},
   "outputs": [],
   "source": [
    "#seaborn\n",
    "#sns.barplot(ax = axes[]\"במידה וזה במטריצה נרשום מיקום\", x=\"Xcolumn\", y=\"Ycolumn\",  data=data)\n",
    "#sns.catplot(ax = axes[]\"במידה וזה במטריצה נרשום מיקום\", data=data, kind=\"bar\",x=\"Xcolumn\",y = \"ycolumn\")\n",
    "\n",
    "#pandas\n",
    "#plt.bar(data[\"what do you want as X\"],data[\"what do you want as Y\"])\n"
   ]
  },
  {
   "cell_type": "markdown",
   "metadata": {},
   "source": [
    "#### 5. countplot:\n",
    "<div style=\"direction:rtl\">\n",
    "    מיועד לסכימה של דטה והשוואה בין עמודות ספציפיות או ערכים מסוימים, אם זה מספר של עמודות נעשה מטריצה\n",
    "</div>"
   ]
  },
  {
   "cell_type": "code",
   "execution_count": 21,
   "metadata": {},
   "outputs": [],
   "source": [
    "#seaborn\n",
    "#sns.countplot(ax = axes[]\"במידה וזה במטריצה נרשום מיקום\", x=\"Xcolumn\", data=data)\n",
    "#sns.catplot(ax = axes[]\"במידה וזה במטריצה נרשום מיקום\" , x=\"Xcolumn\", kind=\"count\", data=data)"
   ]
  },
  {
   "cell_type": "markdown",
   "metadata": {},
   "source": [
    "> * Extension on countplot ​​- `Unit 6`\n"
   ]
  },
  {
   "cell_type": "markdown",
   "metadata": {},
   "source": [
    "#### 6. catplot:"
   ]
  },
  {
   "cell_type": "code",
   "execution_count": 6,
   "metadata": {},
   "outputs": [],
   "source": [
    "##sns.catplot(x=\"Xcolumn\", y=\"Ycolumn\", hue=\"נותן אופציה למלא שם עמודה וזה יפצל לצבעים את הערכים לפי העמודה הזאת,לא חובה\", kind=\"סוג השרטוט\", data=data)\n",
    "# sns.catplot(data=e1, kind=\"bar\",x=\"type\",y = \"total_sold\")"
   ]
  },
  {
   "cell_type": "markdown",
   "metadata": {},
   "source": [
    "> * Extension on catplot ​​- `Unit 9`\n"
   ]
  },
  {
   "cell_type": "markdown",
   "metadata": {},
   "source": [
    "#### 7. histogram:"
   ]
  },
  {
   "cell_type": "code",
   "execution_count": 71,
   "metadata": {},
   "outputs": [],
   "source": [
    "#data.hist('column')"
   ]
  },
  {
   "cell_type": "code",
   "execution_count": 72,
   "metadata": {},
   "outputs": [],
   "source": [
    "#data.plot.hist(bins=20 (לא חייב), alpha=0.7)"
   ]
  },
  {
   "cell_type": "code",
   "execution_count": 73,
   "metadata": {},
   "outputs": [],
   "source": [
    "#plt.hist(male['math score'], alpha=0.4, label='male')\n",
    "#plt.hist(female['math score'], alpha=0.4, label='female')\n",
    "#plt.legend(loc='upper right')\n"
   ]
  },
  {
   "cell_type": "markdown",
   "metadata": {},
   "source": [
    "> * Extension on hist ​​- `Unit 4`,`tirgul 9`\n"
   ]
  },
  {
   "cell_type": "markdown",
   "metadata": {},
   "source": [
    "#### דרך נוספת לעשות היסטוגרמה"
   ]
  },
  {
   "cell_type": "code",
   "execution_count": 3,
   "metadata": {},
   "outputs": [],
   "source": [
    "#sns.histplot(\n",
    "#    diamonds,\n",
    "#    x=\"price\", hue=\"cut\",\n",
    "#    multiple=\"stack\",   \n",
    "#)"
   ]
  },
  {
   "cell_type": "markdown",
   "metadata": {},
   "source": [
    "> * Example ​​- `Unit 9`"
   ]
  },
  {
   "cell_type": "markdown",
   "metadata": {},
   "source": [
    "#### 6. boxplot:"
   ]
  },
  {
   "cell_type": "code",
   "execution_count": 7,
   "metadata": {},
   "outputs": [],
   "source": [
    "#panda\n",
    "#data['column'].plot(kind='box', figsize=(3,4), patch_artist=True)\n",
    "#patch_artist = true ---> ממלא את הקופסא בצבע\n",
    "#חציון באמצע\n",
    "#data.boxplot('column', patch_artist=True)"
   ]
  },
  {
   "cell_type": "code",
   "execution_count": 75,
   "metadata": {},
   "outputs": [],
   "source": [
    "#seaborn\n",
    "#sns.boxplot(y=\"Age\", data=drug_df, linewidth=2.5,color=\"tab:blue\")\n",
    "#sns.boxplot(x=\"Xcolumn\", y=\"Ycolumn\",hue=\"color_column\", palette=[\"m\", \"g\"],data=data)"
   ]
  },
  {
   "cell_type": "markdown",
   "metadata": {},
   "source": [
    "> * Extension on boxplot ​​- `Unit 4`\n"
   ]
  },
  {
   "cell_type": "markdown",
   "metadata": {},
   "source": [
    "#### 6. pie plot:\n",
    "\n",
    "מתאים לעד 2 ערכים"
   ]
  },
  {
   "cell_type": "code",
   "execution_count": 23,
   "metadata": {},
   "outputs": [],
   "source": [
    "#data['column'].value_counts().plot.pie(autopct=\"%1.1f%%\")"
   ]
  },
  {
   "cell_type": "markdown",
   "metadata": {},
   "source": [
    "#### 7. מטריצה"
   ]
  },
  {
   "cell_type": "code",
   "execution_count": 11,
   "metadata": {},
   "outputs": [],
   "source": [
    "# fig, axes = plt.subplots(1, 3, figsize=(10,5))\n",
    "\n",
    "# sns.stripplot(ax = axes[0], x=\"awards\" , y=\"imdb_rating\", data=movie_df, jitter=0.1)          \n",
    "\n",
    "\n",
    "# sns.stripplot(ax = axes[1], x=\"awards\", y=\"imdb_votes\", data=movie_df, jitter=0.1)\n",
    "\n",
    "\n",
    "# sns.stripplot(ax = axes[2], x=\"awards\", y=\"runtime per min\", data=movie_df, jitter=0.1)\n",
    "\n",
    "#מגדיר את הרווח בין הגרפים\n",
    "# plt.subplots_adjust(wspace = 0.5);\n",
    "\n",
    "# plt.show()\n",
    "\n"
   ]
  },
  {
   "cell_type": "markdown",
   "metadata": {},
   "source": [
    "### צפיפות ,נעשה לפני קרולציות כדי לבדוק את הדאטה. גרף פעמון פירסון. גרף אחר קנדל טאו "
   ]
  },
  {
   "cell_type": "markdown",
   "metadata": {},
   "source": [
    "#### נשתמש בה כאשר יש לנו מספרים רציפים ונרצה להציג עקומה של גרף בצורה רציפה במקום בצורה בדידה"
   ]
  },
  {
   "cell_type": "code",
   "execution_count": 13,
   "metadata": {},
   "outputs": [],
   "source": [
    "# features = ['metascore','imdb_rating','imdb_votes','runtime per min','broadcast_from_year',\"awards\" ]\n",
    "\n",
    "# movie_df[features].plot.density(subplots=True, sharex=False, sharey=False, layout=(3, 3), figsize=(12,14))\n",
    "# plt.subplots_adjust(wspace = 0.5);\n",
    "# plt.legend(\"upper right\")\n",
    "# plt.show()"
   ]
  },
  {
   "cell_type": "markdown",
   "metadata": {},
   "source": [
    "> * Extension on regplot ​​- `Unit 6`\n"
   ]
  },
  {
   "cell_type": "markdown",
   "metadata": {},
   "source": [
    "### >> bin --> category , category -->bin"
   ]
  },
  {
   "cell_type": "code",
   "execution_count": 24,
   "metadata": {},
   "outputs": [],
   "source": [
    "# Turning values into categories\n",
    "#לשמור את אותה עמודה כערך בינארי\n",
    "#data['column'] = data['column'].astype('category').cat.codes\n",
    "\n",
    "#לשמור עמודה חדשה כערך בינארי זהה לעמודה המסוימת\n",
    "#data['newcolumn'] = data['column'].astype('category').cat.codes"
   ]
  },
  {
   "cell_type": "code",
   "execution_count": 25,
   "metadata": {},
   "outputs": [],
   "source": [
    "# Turning categories into bin\n",
    "\n",
    "#new_file = pd.get_dummies(data['categories_column'])\n",
    "\n",
    "#to connect the new file to the orignal data\n",
    "#data = pd.concat([data,new_file],axis=1)"
   ]
  },
  {
   "cell_type": "markdown",
   "metadata": {},
   "source": [
    "> * Extension on bin and category ​​- `tirgul 8`\n"
   ]
  },
  {
   "cell_type": "markdown",
   "metadata": {},
   "source": [
    "### >> corr"
   ]
  },
  {
   "cell_type": "code",
   "execution_count": 26,
   "metadata": {},
   "outputs": [],
   "source": [
    "#data.corr(method='pearson')\n",
    "#data.corr(method='spearman')\n",
    "#data.corr(method='kendall')\n"
   ]
  },
  {
   "cell_type": "code",
   "execution_count": 27,
   "metadata": {},
   "outputs": [],
   "source": [
    "#show the corr:\n",
    "#sns.heatmap(data=correlation_data,cmap='Greens', annot=True)\n",
    "#annot = true ---> להציג ערך בתצוגה\n",
    "\n",
    "\n",
    "\n",
    "# taucor = pd.DataFrame(movie_df, columns = ['imdb_votes','runtime per min','broadcast_from_year',\"awards\"])\n",
    "# corrs = taucor.corr(method = 'kendall')\n",
    "\n",
    "# plt.figure(figsize=(10,10))\n",
    "# sns.heatmap(corrs, cmap='coolwarm', center=0, annot=True);"
   ]
  },
  {
   "cell_type": "markdown",
   "metadata": {},
   "source": [
    "> * Extension on corr ​​- `Unit 5`\n"
   ]
  },
  {
   "cell_type": "markdown",
   "metadata": {},
   "source": [
    "## >> Decition tree"
   ]
  },
  {
   "cell_type": "markdown",
   "metadata": {},
   "source": [
    "# 1. SVM model - linear classification"
   ]
  },
  {
   "cell_type": "code",
   "execution_count": 82,
   "metadata": {},
   "outputs": [],
   "source": [
    "#features = ['column1', 'column2', 'column3', 'column4']\n",
    "#X = data[features]\n",
    "#y = data['class']\n",
    "#X_train, X_test, y_train, y_test = sk.model_selection.train_test_split(X, y, test_size=0.3, random_state=1) "
   ]
  },
  {
   "cell_type": "code",
   "execution_count": 83,
   "metadata": {},
   "outputs": [],
   "source": [
    "#from sklearn.svm import SVC\n",
    "#svm_model = SVC(random_state = 0)\n",
    "#svm_model.fit(X_train, y_train)\n",
    "#svm_pred = svm_model.predict(X_test)\n",
    "#sk.metrics.accuracy_score(svm_pred, y_test)"
   ]
  },
  {
   "cell_type": "markdown",
   "metadata": {},
   "source": [
    "# 2. Decision trees - nonlinear classification"
   ]
  },
  {
   "cell_type": "code",
   "execution_count": 64,
   "metadata": {},
   "outputs": [],
   "source": [
    "from sklearn.metrics import mean_squared_error as mse"
   ]
  },
  {
   "cell_type": "code",
   "execution_count": 63,
   "metadata": {},
   "outputs": [],
   "source": [
    "# features = ['column1','column2','column3','column4','column5']\n",
    "# pred_label = ['The column that we want to predict']"
   ]
  },
  {
   "cell_type": "markdown",
   "metadata": {},
   "source": [
    "### for a Regressor"
   ]
  },
  {
   "cell_type": "code",
   "execution_count": 59,
   "metadata": {},
   "outputs": [],
   "source": [
    "#X = data[features]\n",
    "#y = data[pred_label]\n",
    "\n",
    "#X_train,X_test,y_train,y_test = train_test_split(X,y,test_size=0.2,random_state=43)  \n",
    "\n",
    "#X.head()"
   ]
  },
  {
   "cell_type": "code",
   "execution_count": 68,
   "metadata": {},
   "outputs": [],
   "source": [
    "# פונקציה שבודקת ושגיאה\n",
    "\n",
    "def eval(x,y,model):\n",
    "    pred = model.predict(x)\n",
    "    y_alt=y.values\n",
    "    resultMSE = mse(pred,y,squared=False)\n",
    "    print(\"MSE: {:.3f}\".format(resultMSE))   # note for CDR cat units    \n",
    "    return resultMSE"
   ]
  },
  {
   "cell_type": "code",
   "execution_count": 69,
   "metadata": {},
   "outputs": [],
   "source": [
    "# פונקציה לבניית העץ\n",
    "\n",
    "import sklearn.tree as tree\n",
    "def plot_tree(tree_model,feat,size=(15,10)):\n",
    "    fig = plt.figure(figsize=size)\n",
    "    tree.plot_tree(tree_model, \n",
    "                   feature_names = feat, \n",
    "                   filled=True, \n",
    "                   rounded = True)  \n",
    "    plt.show"
   ]
  },
  {
   "cell_type": "code",
   "execution_count": 77,
   "metadata": {},
   "outputs": [],
   "source": [
    "#התאמת המודל  \n",
    "#model = DecisionTreeRegressor(random_state=42)\n",
    "\n",
    "#אימון המודל\n",
    "#model.fit(X_train,y_train)\n",
    "\n",
    "#הדפסת העומק  \n",
    "#print(\"Depth:\",model.get_depth())\n",
    "\n",
    "# בדיקת השגיאה\n",
    "#resultMSE = eval(X_test,y_test,model)\n",
    "\n",
    "# הדפסת העץ\n",
    "#plot_tree(model,features)"
   ]
  },
  {
   "cell_type": "code",
   "execution_count": 74,
   "metadata": {},
   "outputs": [],
   "source": [
    "#במידה ורוצים להגביל את העומק\n",
    "#model = DecisionTreeRegressor(max_depth=1,random_state=42)\n",
    "\n",
    "#אימון המודל\n",
    "#model.fit(X_train,y_train)\n",
    "\n",
    "# בדיקת דיוק ושגיאה\n",
    "#eval(X_test,y_test,model)\n",
    "\n",
    "# הדפסת העץ\n",
    "#plot_tree(model,features)"
   ]
  },
  {
   "cell_type": "markdown",
   "metadata": {},
   "source": [
    "> * Extension on Decision tree Regressor ​​- `tirgul 9`\n"
   ]
  },
  {
   "cell_type": "code",
   "execution_count": 39,
   "metadata": {},
   "outputs": [],
   "source": [
    "import sklearn.tree as tree\n",
    "def plot_tree(tree_model,feat,size=(15,10)):\n",
    "    fig = plt.figure(figsize=size)\n",
    "    tree.plot_tree(tree_model, \n",
    "                   feature_names = feat, \n",
    "                   filled=True, \n",
    "                   rounded = True)  \n",
    "    plt.show"
   ]
  },
  {
   "cell_type": "markdown",
   "metadata": {},
   "source": [
    "### for a Classifier"
   ]
  },
  {
   "cell_type": "code",
   "execution_count": 65,
   "metadata": {},
   "outputs": [],
   "source": [
    "# X = data[features]\n",
    "# y = data[pred_label]\n",
    "\n",
    "# X_train,X_test,y_train,y_test = train_test_split(X,y,test_size=0.2,random_state=43)"
   ]
  },
  {
   "cell_type": "code",
   "execution_count": 67,
   "metadata": {},
   "outputs": [],
   "source": [
    "# פונקציה שבודקת דיוק ושגיאה\n",
    "def eval(x,y,model):\n",
    "    pred = model.predict(x)\n",
    "    y_alt=y.values.reshape((-1,1))\n",
    "    print(\"Acc: {:.3f}\".format((pred == y_alt).mean()))\n",
    "    print(\"MSE: {:.3f}\".format(mse(pred,y,squared=False)))   \n",
    "    print(\"Classified {:.3f}% as sick, where the in the true data {:} where sick.\".format(100*(pred>0).sum()/len(pred),(y.values>0).sum()))"
   ]
  },
  {
   "cell_type": "code",
   "execution_count": 70,
   "metadata": {},
   "outputs": [],
   "source": [
    "# פונקציה לבניית העץ\n",
    "\n",
    "import sklearn.tree as tree\n",
    "def plot_tree(tree_model,feat,size=(15,10)):\n",
    "    fig = plt.figure(figsize=size)\n",
    "    tree.plot_tree(tree_model, \n",
    "                   feature_names = feat, \n",
    "                   filled=True, \n",
    "                   rounded = True)  \n",
    "    plt.show"
   ]
  },
  {
   "cell_type": "code",
   "execution_count": 78,
   "metadata": {},
   "outputs": [],
   "source": [
    "# התאמת מודל לעץ\n",
    "# model = sk.tree.DecisionTreeClassifier(criterion=\"gini\")\n",
    "\n",
    "# אימון המודל\n",
    "# model.fit(X_train,y_train)\n",
    "\n",
    "#הדפסת העומק  \n",
    "# print(\"Depth:\",model.get_depth())\n",
    "\n",
    "# בדיקת דיוק ושגיאה\n",
    "# eval(X_test,y_test,model)\n",
    "\n",
    "# הדפסת העץ\n",
    "# plot_tree(model,features)"
   ]
  },
  {
   "cell_type": "markdown",
   "metadata": {},
   "source": [
    "> * Extension on Decision tree Classifier ​​- `Unit 7` ​​ & `tirgul 8`"
   ]
  },
  {
   "cell_type": "code",
   "execution_count": 4,
   "metadata": {},
   "outputs": [],
   "source": [
    "#במידה וקופצת אזהרה\n",
    "#pd.options.mode.chained_assignment = None  \n",
    "# default='warn'"
   ]
  },
  {
   "cell_type": "markdown",
   "metadata": {},
   "source": [
    "### מחיקת שורות המכילות ערך ספיצפי \n"
   ]
  },
  {
   "cell_type": "code",
   "execution_count": 16,
   "metadata": {},
   "outputs": [],
   "source": [
    "#drug_df.drop(drug_df[(drug_df[\"Year\"] < 0)].index,inplace=True\n",
    "\n",
    "#data.drop(data[(data[\"room_type\"] == \"Shared room\")].index,inplace=True)"
   ]
  },
  {
   "cell_type": "markdown",
   "metadata": {},
   "source": [
    "### חיתוך ושמירה של דטה פריים לפי ערך מסוים בעמודה \n"
   ]
  },
  {
   "cell_type": "code",
   "execution_count": 18,
   "metadata": {},
   "outputs": [],
   "source": [
    "# series_df = disney_df[disney_df['type']==\"series\"].reset_index(drop = True)\n",
    "# movie_df = disney_df[disney_df['type']==\"movie\"].reset_index(drop = True)"
   ]
  },
  {
   "cell_type": "markdown",
   "metadata": {},
   "source": [
    "### החלפת ערכים בעמודה מסוימת בערך אחר"
   ]
  },
  {
   "cell_type": "code",
   "execution_count": null,
   "metadata": {},
   "outputs": [],
   "source": [
    "# disney_df['runtime'] = disney_df['runtime'].str.replace('min', '')\n",
    "# disney_df['runtime'] = disney_df['runtime'].str.replace('1 h', '')"
   ]
  },
  {
   "cell_type": "markdown",
   "metadata": {},
   "source": [
    "### שינוי שם לעמודה"
   ]
  },
  {
   "cell_type": "code",
   "execution_count": 33,
   "metadata": {},
   "outputs": [],
   "source": [
    "#NewArgument=data.rename(columns= {'before change name':'after change name'})"
   ]
  },
  {
   "cell_type": "markdown",
   "metadata": {},
   "source": [
    "### הגדרת עמודה בתור טיפוס אחר, חשוב קודם כל לוודא שאין ערכים ריקים"
   ]
  },
  {
   "cell_type": "code",
   "execution_count": 32,
   "metadata": {},
   "outputs": [],
   "source": [
    "# NewArgument = data.astype({'column':float})"
   ]
  },
  {
   "cell_type": "markdown",
   "metadata": {},
   "source": [
    "### איחוד בין 2 דטה פריימים"
   ]
  },
  {
   "cell_type": "code",
   "execution_count": 35,
   "metadata": {},
   "outputs": [],
   "source": [
    "# NewData = pd.concat([data,Argument_of_the_columns])"
   ]
  },
  {
   "cell_type": "markdown",
   "metadata": {},
   "source": [
    "### הפיכה של עמודה לדייטיים , לאחר מכן אפשר להציג רק את החודש/שנה/יום/שעה וכו"
   ]
  },
  {
   "cell_type": "code",
   "execution_count": 22,
   "metadata": {},
   "outputs": [],
   "source": [
    "# b1[\"Date\"] = pd.to_datetime(b1[\"Date\"])\n",
    "# b1['month'] = pd.DatetimeIndex(b1.Date).month\n",
    "# d1 = b1.loc[(b1.month == 9)]\n",
    "# d1[\"Total Bags\"].sum()"
   ]
  },
  {
   "cell_type": "markdown",
   "metadata": {},
   "source": [
    "### מחיקת עמודה"
   ]
  },
  {
   "cell_type": "code",
   "execution_count": 23,
   "metadata": {},
   "outputs": [],
   "source": [
    "# data = data.drop('column', axis=1)"
   ]
  },
  {
   "cell_type": "markdown",
   "metadata": {},
   "source": [
    "### שמירה של עמודה כשנרצה ערכים מספריים מעל גבול מסוים"
   ]
  },
  {
   "cell_type": "code",
   "execution_count": 36,
   "metadata": {},
   "outputs": [],
   "source": [
    "# data = data[data[\"year column\"] >= 1985].reset_index(drop = True)"
   ]
  },
  {
   "cell_type": "markdown",
   "metadata": {},
   "source": [
    "### הגדלת הסקאלה ע\"י לוג"
   ]
  },
  {
   "cell_type": "code",
   "execution_count": 56,
   "metadata": {},
   "outputs": [],
   "source": [
    "#שיטה מספר 1\n",
    "# sns.histplot(diamonds.price[diamonds.cut == 'Ideal'], log_scale = (False, True))\n",
    "\n",
    "#שיטה מספר 2\n",
    "# sns.histplot(np.log2(diamonds.price[diamonds.cut == 'Ideal']))"
   ]
  },
  {
   "cell_type": "markdown",
   "metadata": {},
   "source": [
    "> * Extension on log ​​- `Unit 9`"
   ]
  },
  {
   "cell_type": "code",
   "execution_count": null,
   "metadata": {},
   "outputs": [],
   "source": []
  }
 ],
 "metadata": {
  "kernelspec": {
   "display_name": "Python 3",
   "language": "python",
   "name": "python3"
  },
  "language_info": {
   "codemirror_mode": {
    "name": "ipython",
    "version": 3
   },
   "file_extension": ".py",
   "mimetype": "text/x-python",
   "name": "python",
   "nbconvert_exporter": "python",
   "pygments_lexer": "ipython3",
   "version": "3.8.3"
  }
 },
 "nbformat": 4,
 "nbformat_minor": 4
}
